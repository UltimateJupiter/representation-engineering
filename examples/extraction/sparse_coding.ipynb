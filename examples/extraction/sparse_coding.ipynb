{
 "cells": [
  {
   "cell_type": "code",
   "execution_count": 1,
   "metadata": {},
   "outputs": [],
   "source": [
    "import numpy as np\n",
    "from sklearn.decomposition import DictionaryLearning\n",
    "import pickle"
   ]
  },
  {
   "cell_type": "code",
   "execution_count": 2,
   "metadata": {},
   "outputs": [],
   "source": [
    "with open('/scratch/gpfs/yc6206/representation-engineering/examples/extraction/reading_vectors.pickle', 'rb') as f:\n",
    "    reading_vectors = pickle.load(f)"
   ]
  },
  {
   "cell_type": "code",
   "execution_count": 3,
   "metadata": {},
   "outputs": [],
   "source": [
    "dict_learner = DictionaryLearning(n_components=15, transform_algorithm='lasso_lars', transform_alpha=0.1, random_state=42)"
   ]
  },
  {
   "cell_type": "code",
   "execution_count": 4,
   "metadata": {},
   "outputs": [],
   "source": [
    "X = reading_vectors['Happy'][-5]\n",
    "X_transformed = dict_learner.fit(X).transform(X)"
   ]
  },
  {
   "cell_type": "code",
   "execution_count": 5,
   "metadata": {},
   "outputs": [
    {
     "name": "stdout",
     "output_type": "stream",
     "text": [
      "[[ 0.01237647 -0.00075446  0.02878658 ... -0.01693045 -0.01358844\n",
      "   0.00923566]\n",
      " [ 0.01224699 -0.00071586  0.02846045 ... -0.01714701 -0.01356378\n",
      "   0.0091946 ]\n",
      " [ 0.01213001 -0.000548    0.0286858  ... -0.01724414 -0.01335988\n",
      "   0.00927199]\n",
      " ...\n",
      " [ 0.0121003  -0.00067088  0.02894696 ... -0.01703179 -0.0132918\n",
      "   0.00921113]\n",
      " [ 0.01196598 -0.00075381  0.02867174 ... -0.01686708 -0.01345057\n",
      "   0.00909359]\n",
      " [ 0.01185365 -0.00050974  0.0287874  ... -0.01723944 -0.01365963\n",
      "   0.00935389]]\n"
     ]
    },
    {
     "ename": "",
     "evalue": "",
     "output_type": "error",
     "traceback": [
      "\u001b[1;31mThe Kernel crashed while executing code in the the current cell or a previous cell. Please review the code in the cell(s) to identify a possible cause of the failure. Click <a href='https://aka.ms/vscodeJupyterKernelCrash'>here</a> for more info. View Jupyter <a href='command:jupyter.viewOutput'>log</a> for further details."
     ]
    }
   ],
   "source": [
    "emotion_levels = {\n",
    "    '-': 'slightly ',\n",
    "    '': '',\n",
    "    '+': 'very ',\n",
    "    '++': 'extremely ',\n",
    "    '+++': 'extremely extremely ',\n",
    "    '++++': 'extremely extremely extremely ',\n",
    "    '+++++': 'extremely extremely extremely extremely ',\n",
    "    '++++++': 'extremely extremely extremely extremely extremely '\n",
    "}\n",
    "emotion_stimulis = {\n",
    "    \"Happy\": \"Respond with a happy tone\",\n",
    "    \"Sad\": \"Respond with a sad tone\",\n",
    "    \"Angry\": \"Respond with an angry tone\",\n",
    "    \"Fearful\": \"Respond with a fearful tone\",\n",
    "    \"Disgusted\": \"Respond with a disgusted tone\",\n",
    "    \"Surprised\": \"Respond with a surprised tone\"\n",
    "}\n",
    "emotions = list(emotion_stimulis.keys())"
   ]
  },
  {
   "cell_type": "code",
   "execution_count": null,
   "metadata": {},
   "outputs": [],
   "source": []
  }
 ],
 "metadata": {
  "kernelspec": {
   "display_name": "repe",
   "language": "python",
   "name": "python3"
  },
  "language_info": {
   "codemirror_mode": {
    "name": "ipython",
    "version": 3
   },
   "file_extension": ".py",
   "mimetype": "text/x-python",
   "name": "python",
   "nbconvert_exporter": "python",
   "pygments_lexer": "ipython3",
   "version": "3.11.5"
  }
 },
 "nbformat": 4,
 "nbformat_minor": 2
}
